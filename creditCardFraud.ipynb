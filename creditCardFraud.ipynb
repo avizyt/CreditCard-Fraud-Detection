{
 "cells": [
  {
   "cell_type": "code",
   "execution_count": 1,
   "metadata": {},
   "outputs": [],
   "source": [
    "import numpy as np \n",
    "import pandas as pd \n",
    "import matplotlib.pyplot as plt "
   ]
  },
  {
   "cell_type": "code",
   "execution_count": 2,
   "metadata": {},
   "outputs": [],
   "source": [
    "df = pd.read_csv(\"creditcard/creditcard.csv\", delimiter=\",\")"
   ]
  },
  {
   "cell_type": "code",
   "execution_count": 3,
   "metadata": {},
   "outputs": [
    {
     "name": "stdout",
     "output_type": "stream",
     "text": [
      "(284807, 31)\n"
     ]
    }
   ],
   "source": [
    "print(df.shape)"
   ]
  },
  {
   "cell_type": "code",
   "execution_count": 4,
   "metadata": {},
   "outputs": [
    {
     "name": "stdout",
     "output_type": "stream",
     "text": [
      "OutlierFraction: 0.0017304750013189597\n",
      "Fraud Cases: 492\n",
      "Valid Transactions: 284315\n"
     ]
    }
   ],
   "source": [
    "fraud = df[df['Class'] == 1]\n",
    "valid = df[df['Class'] == 0]\n",
    "outlierFraction = len(fraud)/ float(len(valid))\n",
    "print(f\"OutlierFraction: {outlierFraction}\")\n",
    "print('Fraud Cases: {}'.format(len(df[df['Class'] == 1])))\n",
    "print('Valid Transactions: {}'.format(len(df[df['Class'] == 0])))\n"
   ]
  },
  {
   "cell_type": "code",
   "execution_count": 5,
   "metadata": {},
   "outputs": [
    {
     "name": "stdout",
     "output_type": "stream",
     "text": [
      "Amount detail of the fraudulent transactions\n"
     ]
    },
    {
     "data": {
      "text/plain": [
       "count     492.000000\n",
       "mean      122.211321\n",
       "std       256.683288\n",
       "min         0.000000\n",
       "25%         1.000000\n",
       "50%         9.250000\n",
       "75%       105.890000\n",
       "max      2125.870000\n",
       "Name: Amount, dtype: float64"
      ]
     },
     "execution_count": 5,
     "metadata": {},
     "output_type": "execute_result"
    }
   ],
   "source": [
    "print(\"Amount detail of the fraudulent transactions\")\n",
    "fraud.Amount.describe()"
   ]
  },
  {
   "cell_type": "code",
   "execution_count": 6,
   "metadata": {},
   "outputs": [
    {
     "name": "stdout",
     "output_type": "stream",
     "text": [
      "Amount detail of the valid transactions\n"
     ]
    },
    {
     "data": {
      "text/plain": [
       "count    284315.000000\n",
       "mean         88.291022\n",
       "std         250.105092\n",
       "min           0.000000\n",
       "25%           5.650000\n",
       "50%          22.000000\n",
       "75%          77.050000\n",
       "max       25691.160000\n",
       "Name: Amount, dtype: float64"
      ]
     },
     "execution_count": 6,
     "metadata": {},
     "output_type": "execute_result"
    }
   ],
   "source": [
    "print(\"Amount detail of the valid transactions\")\n",
    "valid.Amount.describe()"
   ]
  },
  {
   "cell_type": "markdown",
   "metadata": {},
   "source": [
    "## Spliting the raw data into Input and output\n",
    "\n",
    "### Time & amount are not that important features so we drop it from the input data and split the data into input(X) and output(y)\n",
    "    - Where Input data (X) contain all the features except time and amount.\n",
    "    - And Output data (y) contain only Class."
   ]
  },
  {
   "cell_type": "code",
   "execution_count": 7,
   "metadata": {},
   "outputs": [
    {
     "data": {
      "text/plain": [
       "'Shapes of X=(284807, 28) y=(284807,), #Fraud Cases=492'"
      ]
     },
     "execution_count": 7,
     "metadata": {},
     "output_type": "execute_result"
    }
   ],
   "source": [
    "X = df.drop(columns=['Time', 'Amount', 'Class']).values\n",
    "y = df['Class'].values\n",
    "f\"Shapes of X={X.shape} y={y.shape}, #Fraud Cases={y.sum()}\""
   ]
  },
  {
   "cell_type": "code",
   "execution_count": 8,
   "metadata": {},
   "outputs": [],
   "source": [
    "from xgboost import XGBClassifier\n",
    "from sklearn.model_selection import train_test_split\n",
    "from sklearn.model_selection import GridSearchCV\n",
    "from sklearn.metrics import precision_score, recall_score, make_scorer, accuracy_score"
   ]
  },
  {
   "cell_type": "code",
   "execution_count": 9,
   "metadata": {},
   "outputs": [],
   "source": [
    "# split data into train and test sets\n",
    "seed = 1214\n",
    "test_size = 0.2\n",
    "X_train, X_test, y_train, y_test = train_test_split(X,y,test_size=test_size, random_state=seed )"
   ]
  },
  {
   "cell_type": "code",
   "execution_count": 10,
   "metadata": {},
   "outputs": [
    {
     "name": "stdout",
     "output_type": "stream",
     "text": [
      "(227845, 28)\n",
      "(227845,)\n",
      "(56962, 28)\n",
      "(56962,)\n"
     ]
    }
   ],
   "source": [
    "print(X_train.shape)\n",
    "print(y_train.shape)\n",
    "print(X_test.shape)\n",
    "print(y_test.shape)"
   ]
  },
  {
   "cell_type": "code",
   "execution_count": 11,
   "metadata": {},
   "outputs": [
    {
     "name": "stderr",
     "output_type": "stream",
     "text": [
      "D:\\anaconda3\\envs\\ml\\lib\\site-packages\\xgboost\\sklearn.py:1146: UserWarning: The use of label encoder in XGBClassifier is deprecated and will be removed in a future release. To remove this warning, do the following: 1) Pass option use_label_encoder=False when constructing XGBClassifier object; and 2) Encode your labels (y) as integers starting with 0, i.e. 0, 1, 2, ..., [num_class - 1].\n",
      "  warnings.warn(label_encoder_deprecation_msg, UserWarning)\n"
     ]
    },
    {
     "name": "stdout",
     "output_type": "stream",
     "text": [
      "[12:15:29] WARNING: C:/Users/Administrator/workspace/xgboost-win64_release_1.4.0/src/learner.cc:1095: Starting in XGBoost 1.3.0, the default evaluation metric used with the objective 'binary:logistic' was changed from 'error' to 'logloss'. Explicitly set eval_metric if you'd like to restore the old behavior.\n",
      "XGBClassifier(base_score=0.5, booster='gbtree', colsample_bylevel=1,\n",
      "              colsample_bynode=1, colsample_bytree=1, gamma=0, gpu_id=-1,\n",
      "              importance_type='gain', interaction_constraints='',\n",
      "              learning_rate=0.300000012, max_delta_step=0, max_depth=6,\n",
      "              min_child_weight=1, missing=nan, monotone_constraints='()',\n",
      "              n_estimators=100, n_jobs=4, num_parallel_tree=1, random_state=0,\n",
      "              reg_alpha=0, reg_lambda=1, scale_pos_weight=1, subsample=1,\n",
      "              tree_method='exact', validate_parameters=1, verbosity=None)\n"
     ]
    }
   ],
   "source": [
    "first_model = XGBClassifier()\n",
    "first_model.fit(X_train, y_train)\n",
    "print(first_model)"
   ]
  },
  {
   "cell_type": "code",
   "execution_count": 12,
   "metadata": {},
   "outputs": [],
   "source": [
    "pred = first_model.predict(X_test)"
   ]
  },
  {
   "cell_type": "code",
   "execution_count": 13,
   "metadata": {},
   "outputs": [
    {
     "name": "stdout",
     "output_type": "stream",
     "text": [
      "Accuracy: 99.95%\n"
     ]
    }
   ],
   "source": [
    "accuracy = accuracy_score(y_test, pred)\n",
    "print(f\"Accuracy: {accuracy * 100:.2f}%\")"
   ]
  },
  {
   "cell_type": "markdown",
   "metadata": {},
   "source": [
    "## Features importancs "
   ]
  },
  {
   "cell_type": "code",
   "execution_count": 14,
   "metadata": {},
   "outputs": [
    {
     "name": "stdout",
     "output_type": "stream",
     "text": [
      "[0.01776108 0.02270882 0.0148553  0.03190698 0.01922323 0.01639209\n",
      " 0.02933025 0.01667766 0.01826083 0.05748048 0.01717535 0.02617349\n",
      " 0.01451928 0.0619131  0.014626   0.01181433 0.4227505  0.01493303\n",
      " 0.01239002 0.01450671 0.01842239 0.01727523 0.01470053 0.01285029\n",
      " 0.01727785 0.02227357 0.02369064 0.01811087]\n"
     ]
    },
    {
     "data": {
      "image/png": "[encoded data removed]",
      "text/plain": [
       "<Figure size 432x288 with 1 Axes>"
      ]
     },
     "metadata": {
      "needs_background": "light"
     },
     "output_type": "display_data"
    }
   ],
   "source": [
    "print(first_model.feature_importances_)\n",
    "\n",
    "# plot\n",
    "plt.bar(range(len(first_model.feature_importances_)),\n",
    "first_model.feature_importances_)\n",
    "plt.show()"
   ]
  },
  {
   "cell_type": "code",
   "execution_count": 15,
   "metadata": {},
   "outputs": [
    {
     "data": {
      "image/png": "[encoded data removed]",
      "text/plain": [
       "<Figure size 432x288 with 1 Axes>"
      ]
     },
     "metadata": {
      "needs_background": "light"
     },
     "output_type": "display_data"
    }
   ],
   "source": [
    "# using XGBOOST feature Importance Plot\n",
    "from xgboost import plot_importance\n",
    "plot_importance(first_model)\n",
    "plt.show()"
   ]
  },
  {
   "cell_type": "code",
   "execution_count": null,
   "metadata": {},
   "outputs": [],
   "source": [
    "\n",
    "from sklearn.feature_selection import SelectFromModel\n",
    "thresholds = np.sort(first_model.feature_importances_)\n",
    "\n",
    "for thresh in thresholds:\n",
    "    # select features using threshold\n",
    "    selection = SelectFromModel(first_model, threshold=thresh, prefit=True)\n",
    "    select_X_train = selection.transform(X_train)\n",
    "    # train model\n",
    "    selection_model = XGBClassifier(use_label_encoder=False)\n",
    "    selection_model.fit(select_X_train, y_train)\n",
    "    # eval model\n",
    "    select_X_test = selection.transform(X_test)\n",
    "    prediction = selection_model.predict(select_X_test)\n",
    "\n",
    "    acc_new = accuracy_score(y_test, prediction)\n",
    "    print(\"Thresh=%.3f, n=%d, Accuracy: %.2f%%\" % (thresh, select_X_train.shape[1], accuracy*100.0))"
   ]
  },
  {
   "cell_type": "markdown",
   "metadata": {},
   "source": [
    "## Evaluate Model with learing curve"
   ]
  },
  {
   "cell_type": "code",
   "execution_count": 17,
   "metadata": {},
   "outputs": [
    {
     "name": "stderr",
     "output_type": "stream",
     "text": [
      "D:\\anaconda3\\envs\\ml\\lib\\site-packages\\xgboost\\sklearn.py:1146: UserWarning: The use of label encoder in XGBClassifier is deprecated and will be removed in a future release. To remove this warning, do the following: 1) Pass option use_label_encoder=False when constructing XGBClassifier object; and 2) Encode your labels (y) as integers starting with 0, i.e. 0, 1, 2, ..., [num_class - 1].\n",
      "  warnings.warn(label_encoder_deprecation_msg, UserWarning)\n"
     ]
    },
    {
     "name": "stdout",
     "output_type": "stream",
     "text": [
      "[0]\tvalidation_0-error:0.00038\tvalidation_0-logloss:0.43781\tvalidation_1-error:0.00072\tvalidation_1-logloss:0.43801\n",
      "[1]\tvalidation_0-error:0.00037\tvalidation_0-logloss:0.29712\tvalidation_1-error:0.00074\tvalidation_1-logloss:0.29719\n",
      "[2]\tvalidation_0-error:0.00033\tvalidation_0-logloss:0.20797\tvalidation_1-error:0.00070\tvalidation_1-logloss:0.20851\n",
      "[3]\tvalidation_0-error:0.00032\tvalidation_0-logloss:0.14865\tvalidation_1-error:0.00063\tvalidation_1-logloss:0.14907\n",
      "[4]\tvalidation_0-error:0.00031\tvalidation_0-logloss:0.10757\tvalidation_1-error:0.00061\tvalidation_1-logloss:0.10802\n",
      "[5]\tvalidation_0-error:0.00030\tvalidation_0-logloss:0.07849\tvalidation_1-error:0.00058\tvalidation_1-logloss:0.07903\n",
      "[6]\tvalidation_0-error:0.00029\tvalidation_0-logloss:0.05777\tvalidation_1-error:0.00056\tvalidation_1-logloss:0.05828\n",
      "[7]\tvalidation_0-error:0.00029\tvalidation_0-logloss:0.04271\tvalidation_1-error:0.00056\tvalidation_1-logloss:0.04333\n",
      "[8]\tvalidation_0-error:0.00028\tvalidation_0-logloss:0.03179\tvalidation_1-error:0.00056\tvalidation_1-logloss:0.03243\n",
      "[9]\tvalidation_0-error:0.00027\tvalidation_0-logloss:0.02377\tvalidation_1-error:0.00056\tvalidation_1-logloss:0.02449\n",
      "[10]\tvalidation_0-error:0.00026\tvalidation_0-logloss:0.01788\tvalidation_1-error:0.00053\tvalidation_1-logloss:0.01867\n",
      "[11]\tvalidation_0-error:0.00026\tvalidation_0-logloss:0.01353\tvalidation_1-error:0.00051\tvalidation_1-logloss:0.01442\n",
      "[12]\tvalidation_0-error:0.00026\tvalidation_0-logloss:0.01034\tvalidation_1-error:0.00049\tvalidation_1-logloss:0.01129\n",
      "[13]\tvalidation_0-error:0.00025\tvalidation_0-logloss:0.00799\tvalidation_1-error:0.00051\tvalidation_1-logloss:0.00903\n",
      "[14]\tvalidation_0-error:0.00025\tvalidation_0-logloss:0.00624\tvalidation_1-error:0.00051\tvalidation_1-logloss:0.00737\n",
      "[15]\tvalidation_0-error:0.00023\tvalidation_0-logloss:0.00494\tvalidation_1-error:0.00054\tvalidation_1-logloss:0.00615\n",
      "[16]\tvalidation_0-error:0.00021\tvalidation_0-logloss:0.00395\tvalidation_1-error:0.00051\tvalidation_1-logloss:0.00524\n",
      "[17]\tvalidation_0-error:0.00021\tvalidation_0-logloss:0.00321\tvalidation_1-error:0.00051\tvalidation_1-logloss:0.00459\n",
      "[18]\tvalidation_0-error:0.00021\tvalidation_0-logloss:0.00266\tvalidation_1-error:0.00049\tvalidation_1-logloss:0.00413\n",
      "[19]\tvalidation_0-error:0.00020\tvalidation_0-logloss:0.00224\tvalidation_1-error:0.00049\tvalidation_1-logloss:0.00377\n",
      "[20]\tvalidation_0-error:0.00020\tvalidation_0-logloss:0.00191\tvalidation_1-error:0.00051\tvalidation_1-logloss:0.00355\n",
      "[21]\tvalidation_0-error:0.00019\tvalidation_0-logloss:0.00167\tvalidation_1-error:0.00051\tvalidation_1-logloss:0.00339\n",
      "[22]\tvalidation_0-error:0.00019\tvalidation_0-logloss:0.00146\tvalidation_1-error:0.00051\tvalidation_1-logloss:0.00328\n",
      "[23]\tvalidation_0-error:0.00019\tvalidation_0-logloss:0.00130\tvalidation_1-error:0.00051\tvalidation_1-logloss:0.00319\n",
      "[24]\tvalidation_0-error:0.00018\tvalidation_0-logloss:0.00116\tvalidation_1-error:0.00051\tvalidation_1-logloss:0.00313\n",
      "[25]\tvalidation_0-error:0.00018\tvalidation_0-logloss:0.00105\tvalidation_1-error:0.00051\tvalidation_1-logloss:0.00312\n",
      "[26]\tvalidation_0-error:0.00018\tvalidation_0-logloss:0.00095\tvalidation_1-error:0.00049\tvalidation_1-logloss:0.00311\n",
      "[27]\tvalidation_0-error:0.00017\tvalidation_0-logloss:0.00087\tvalidation_1-error:0.00049\tvalidation_1-logloss:0.00311\n",
      "[28]\tvalidation_0-error:0.00015\tvalidation_0-logloss:0.00078\tvalidation_1-error:0.00051\tvalidation_1-logloss:0.00311\n",
      "[29]\tvalidation_0-error:0.00015\tvalidation_0-logloss:0.00071\tvalidation_1-error:0.00051\tvalidation_1-logloss:0.00312\n",
      "[30]\tvalidation_0-error:0.00015\tvalidation_0-logloss:0.00065\tvalidation_1-error:0.00051\tvalidation_1-logloss:0.00317\n",
      "[31]\tvalidation_0-error:0.00015\tvalidation_0-logloss:0.00061\tvalidation_1-error:0.00051\tvalidation_1-logloss:0.00321\n",
      "[32]\tvalidation_0-error:0.00014\tvalidation_0-logloss:0.00056\tvalidation_1-error:0.00051\tvalidation_1-logloss:0.00324\n",
      "[33]\tvalidation_0-error:0.00012\tvalidation_0-logloss:0.00051\tvalidation_1-error:0.00051\tvalidation_1-logloss:0.00326\n",
      "[34]\tvalidation_0-error:0.00012\tvalidation_0-logloss:0.00047\tvalidation_1-error:0.00051\tvalidation_1-logloss:0.00328\n",
      "[35]\tvalidation_0-error:0.00011\tvalidation_0-logloss:0.00043\tvalidation_1-error:0.00049\tvalidation_1-logloss:0.00330\n",
      "[36]\tvalidation_0-error:0.00009\tvalidation_0-logloss:0.00039\tvalidation_1-error:0.00051\tvalidation_1-logloss:0.00333\n",
      "[37]\tvalidation_0-error:0.00008\tvalidation_0-logloss:0.00036\tvalidation_1-error:0.00051\tvalidation_1-logloss:0.00335\n",
      "[38]\tvalidation_0-error:0.00007\tvalidation_0-logloss:0.00034\tvalidation_1-error:0.00047\tvalidation_1-logloss:0.00337\n",
      "[39]\tvalidation_0-error:0.00007\tvalidation_0-logloss:0.00031\tvalidation_1-error:0.00049\tvalidation_1-logloss:0.00337\n",
      "[40]\tvalidation_0-error:0.00007\tvalidation_0-logloss:0.00029\tvalidation_1-error:0.00049\tvalidation_1-logloss:0.00337\n",
      "[41]\tvalidation_0-error:0.00006\tvalidation_0-logloss:0.00027\tvalidation_1-error:0.00049\tvalidation_1-logloss:0.00340\n",
      "[42]\tvalidation_0-error:0.00005\tvalidation_0-logloss:0.00024\tvalidation_1-error:0.00047\tvalidation_1-logloss:0.00342\n",
      "[43]\tvalidation_0-error:0.00004\tvalidation_0-logloss:0.00022\tvalidation_1-error:0.00049\tvalidation_1-logloss:0.00344\n",
      "[44]\tvalidation_0-error:0.00004\tvalidation_0-logloss:0.00021\tvalidation_1-error:0.00049\tvalidation_1-logloss:0.00345\n",
      "[45]\tvalidation_0-error:0.00002\tvalidation_0-logloss:0.00020\tvalidation_1-error:0.00049\tvalidation_1-logloss:0.00347\n",
      "[46]\tvalidation_0-error:0.00001\tvalidation_0-logloss:0.00019\tvalidation_1-error:0.00049\tvalidation_1-logloss:0.00350\n",
      "[47]\tvalidation_0-error:0.00001\tvalidation_0-logloss:0.00018\tvalidation_1-error:0.00049\tvalidation_1-logloss:0.00352\n",
      "[48]\tvalidation_0-error:0.00000\tvalidation_0-logloss:0.00017\tvalidation_1-error:0.00049\tvalidation_1-logloss:0.00354\n",
      "[49]\tvalidation_0-error:0.00001\tvalidation_0-logloss:0.00016\tvalidation_1-error:0.00049\tvalidation_1-logloss:0.00354\n",
      "[50]\tvalidation_0-error:0.00000\tvalidation_0-logloss:0.00015\tvalidation_1-error:0.00049\tvalidation_1-logloss:0.00356\n",
      "[51]\tvalidation_0-error:0.00000\tvalidation_0-logloss:0.00015\tvalidation_1-error:0.00049\tvalidation_1-logloss:0.00358\n",
      "[52]\tvalidation_0-error:0.00000\tvalidation_0-logloss:0.00014\tvalidation_1-error:0.00047\tvalidation_1-logloss:0.00360\n",
      "[53]\tvalidation_0-error:0.00000\tvalidation_0-logloss:0.00013\tvalidation_1-error:0.00047\tvalidation_1-logloss:0.00363\n",
      "[54]\tvalidation_0-error:0.00000\tvalidation_0-logloss:0.00013\tvalidation_1-error:0.00047\tvalidation_1-logloss:0.00365\n",
      "[55]\tvalidation_0-error:0.00000\tvalidation_0-logloss:0.00012\tvalidation_1-error:0.00047\tvalidation_1-logloss:0.00367\n",
      "[56]\tvalidation_0-error:0.00000\tvalidation_0-logloss:0.00012\tvalidation_1-error:0.00047\tvalidation_1-logloss:0.00368\n",
      "[57]\tvalidation_0-error:0.00000\tvalidation_0-logloss:0.00011\tvalidation_1-error:0.00046\tvalidation_1-logloss:0.00367\n",
      "[58]\tvalidation_0-error:0.00000\tvalidation_0-logloss:0.00011\tvalidation_1-error:0.00047\tvalidation_1-logloss:0.00369\n",
      "[59]\tvalidation_0-error:0.00000\tvalidation_0-logloss:0.00011\tvalidation_1-error:0.00047\tvalidation_1-logloss:0.00369\n",
      "[60]\tvalidation_0-error:0.00000\tvalidation_0-logloss:0.00011\tvalidation_1-error:0.00046\tvalidation_1-logloss:0.00369\n",
      "[61]\tvalidation_0-error:0.00000\tvalidation_0-logloss:0.00010\tvalidation_1-error:0.00046\tvalidation_1-logloss:0.00371\n",
      "[62]\tvalidation_0-error:0.00000\tvalidation_0-logloss:0.00010\tvalidation_1-error:0.00047\tvalidation_1-logloss:0.00371\n",
      "[63]\tvalidation_0-error:0.00000\tvalidation_0-logloss:0.00010\tvalidation_1-error:0.00047\tvalidation_1-logloss:0.00372\n",
      "[64]\tvalidation_0-error:0.00000\tvalidation_0-logloss:0.00009\tvalidation_1-error:0.00047\tvalidation_1-logloss:0.00372\n",
      "[65]\tvalidation_0-error:0.00000\tvalidation_0-logloss:0.00009\tvalidation_1-error:0.00047\tvalidation_1-logloss:0.00372\n",
      "[66]\tvalidation_0-error:0.00000\tvalidation_0-logloss:0.00009\tvalidation_1-error:0.00047\tvalidation_1-logloss:0.00373\n",
      "[67]\tvalidation_0-error:0.00000\tvalidation_0-logloss:0.00009\tvalidation_1-error:0.00047\tvalidation_1-logloss:0.00375\n",
      "[68]\tvalidation_0-error:0.00000\tvalidation_0-logloss:0.00009\tvalidation_1-error:0.00047\tvalidation_1-logloss:0.00376\n",
      "[69]\tvalidation_0-error:0.00000\tvalidation_0-logloss:0.00008\tvalidation_1-error:0.00047\tvalidation_1-logloss:0.00379\n",
      "[70]\tvalidation_0-error:0.00000\tvalidation_0-logloss:0.00008\tvalidation_1-error:0.00047\tvalidation_1-logloss:0.00379\n",
      "[71]\tvalidation_0-error:0.00000\tvalidation_0-logloss:0.00008\tvalidation_1-error:0.00046\tvalidation_1-logloss:0.00380\n",
      "[72]\tvalidation_0-error:0.00000\tvalidation_0-logloss:0.00008\tvalidation_1-error:0.00046\tvalidation_1-logloss:0.00380\n",
      "[73]\tvalidation_0-error:0.00000\tvalidation_0-logloss:0.00007\tvalidation_1-error:0.00047\tvalidation_1-logloss:0.00381\n",
      "[74]\tvalidation_0-error:0.00000\tvalidation_0-logloss:0.00007\tvalidation_1-error:0.00047\tvalidation_1-logloss:0.00382\n",
      "[75]\tvalidation_0-error:0.00000\tvalidation_0-logloss:0.00007\tvalidation_1-error:0.00046\tvalidation_1-logloss:0.00382\n",
      "[76]\tvalidation_0-error:0.00000\tvalidation_0-logloss:0.00007\tvalidation_1-error:0.00046\tvalidation_1-logloss:0.00383\n",
      "[77]\tvalidation_0-error:0.00000\tvalidation_0-logloss:0.00007\tvalidation_1-error:0.00046\tvalidation_1-logloss:0.00385\n",
      "[78]\tvalidation_0-error:0.00000\tvalidation_0-logloss:0.00007\tvalidation_1-error:0.00046\tvalidation_1-logloss:0.00385\n",
      "[79]\tvalidation_0-error:0.00000\tvalidation_0-logloss:0.00007\tvalidation_1-error:0.00047\tvalidation_1-logloss:0.00386\n",
      "[80]\tvalidation_0-error:0.00000\tvalidation_0-logloss:0.00007\tvalidation_1-error:0.00049\tvalidation_1-logloss:0.00386\n",
      "[81]\tvalidation_0-error:0.00000\tvalidation_0-logloss:0.00006\tvalidation_1-error:0.00049\tvalidation_1-logloss:0.00386\n",
      "[82]\tvalidation_0-error:0.00000\tvalidation_0-logloss:0.00006\tvalidation_1-error:0.00047\tvalidation_1-logloss:0.00388\n",
      "[83]\tvalidation_0-error:0.00000\tvalidation_0-logloss:0.00006\tvalidation_1-error:0.00047\tvalidation_1-logloss:0.00388\n",
      "[84]\tvalidation_0-error:0.00000\tvalidation_0-logloss:0.00006\tvalidation_1-error:0.00049\tvalidation_1-logloss:0.00388\n",
      "[85]\tvalidation_0-error:0.00000\tvalidation_0-logloss:0.00006\tvalidation_1-error:0.00049\tvalidation_1-logloss:0.00389\n",
      "[86]\tvalidation_0-error:0.00000\tvalidation_0-logloss:0.00006\tvalidation_1-error:0.00047\tvalidation_1-logloss:0.00389\n",
      "[87]\tvalidation_0-error:0.00000\tvalidation_0-logloss:0.00006\tvalidation_1-error:0.00049\tvalidation_1-logloss:0.00390\n",
      "[88]\tvalidation_0-error:0.00000\tvalidation_0-logloss:0.00006\tvalidation_1-error:0.00049\tvalidation_1-logloss:0.00391\n",
      "[89]\tvalidation_0-error:0.00000\tvalidation_0-logloss:0.00006\tvalidation_1-error:0.00049\tvalidation_1-logloss:0.00391\n",
      "[90]\tvalidation_0-error:0.00000\tvalidation_0-logloss:0.00006\tvalidation_1-error:0.00049\tvalidation_1-logloss:0.00392\n",
      "[91]\tvalidation_0-error:0.00000\tvalidation_0-logloss:0.00006\tvalidation_1-error:0.00049\tvalidation_1-logloss:0.00393\n",
      "[92]\tvalidation_0-error:0.00000\tvalidation_0-logloss:0.00006\tvalidation_1-error:0.00049\tvalidation_1-logloss:0.00394\n",
      "[93]\tvalidation_0-error:0.00000\tvalidation_0-logloss:0.00006\tvalidation_1-error:0.00049\tvalidation_1-logloss:0.00394\n",
      "[94]\tvalidation_0-error:0.00000\tvalidation_0-logloss:0.00005\tvalidation_1-error:0.00049\tvalidation_1-logloss:0.00396\n",
      "[95]\tvalidation_0-error:0.00000\tvalidation_0-logloss:0.00005\tvalidation_1-error:0.00049\tvalidation_1-logloss:0.00397\n",
      "[96]\tvalidation_0-error:0.00000\tvalidation_0-logloss:0.00005\tvalidation_1-error:0.00049\tvalidation_1-logloss:0.00397\n",
      "[97]\tvalidation_0-error:0.00000\tvalidation_0-logloss:0.00005\tvalidation_1-error:0.00049\tvalidation_1-logloss:0.00398\n",
      "[98]\tvalidation_0-error:0.00000\tvalidation_0-logloss:0.00005\tvalidation_1-error:0.00049\tvalidation_1-logloss:0.00398\n",
      "[99]\tvalidation_0-error:0.00000\tvalidation_0-logloss:0.00005\tvalidation_1-error:0.00049\tvalidation_1-logloss:0.00399\n",
      "Accuracy: 99.95%\n"
     ]
    }
   ],
   "source": [
    "eval_set = [(X_train, y_train), (X_test, y_test)]\n",
    "second_model = XGBClassifier()\n",
    "second_model.fit(\n",
    "    X_train, \n",
    "    y_train, \n",
    "    eval_metric=[\"error\", \"logloss\"],\n",
    "    eval_set=eval_set,\n",
    "    verbose=True\n",
    "    )\n",
    "# prediction\n",
    "predictions = second_model.predict(X_test)\n",
    "# evaluate pred\n",
    "accuracy_2nd = accuracy_score(y_test, predictions)\n",
    "print(f\"Accuracy: {accuracy_2nd * 100:.2f}%\")\n",
    "\n",
    "# retrieve performance metrics\n",
    "results = second_model.evals_result()\n",
    "epochs = len(results['validation_0']['error'])\n",
    "x_axis = range(0, epochs)"
   ]
  },
  {
   "cell_type": "code",
   "execution_count": 18,
   "metadata": {},
   "outputs": [
    {
     "data": {
      "image/png": "[encoded data removed]",
      "text/plain": [
       "<Figure size 432x288 with 1 Axes>"
      ]
     },
     "metadata": {
      "needs_background": "light"
     },
     "output_type": "display_data"
    }
   ],
   "source": [
    "# plot log loss\n",
    "fig, ax = plt.subplots()\n",
    "ax.plot(x_axis, results['validation_0']['logloss'], label='Train')\n",
    "ax.plot(x_axis, results['validation_1']['logloss'], label='Test')\n",
    "ax.legend()\n",
    "plt.ylabel('Log loss')\n",
    "plt.title('Creditcard fraud Log Loss using XGBOOST')\n",
    "plt.show()"
   ]
  },
  {
   "cell_type": "code",
   "execution_count": 19,
   "metadata": {},
   "outputs": [
    {
     "data": {
      "image/png": "[encoded data removed]",
      "text/plain": [
       "<Figure size 432x288 with 1 Axes>"
      ]
     },
     "metadata": {
      "needs_background": "light"
     },
     "output_type": "display_data"
    }
   ],
   "source": [
    "# plot classification error\n",
    "fig, ax = plt.subplots()\n",
    "ax.plot(x_axis, results['validation_0']['error'], label='Train')\n",
    "ax.plot(x_axis, results['validation_1']['error'], label='Test')\n",
    "ax.legend()\n",
    "plt.ylabel('Classification Error')\n",
    "plt.title('Creditcard fraud classification error using XGBOOST')\n",
    "plt.show()"
   ]
  },
  {
   "cell_type": "code",
   "execution_count": 20,
   "metadata": {},
   "outputs": [
    {
     "name": "stderr",
     "output_type": "stream",
     "text": [
      "D:\\anaconda3\\envs\\ml\\lib\\site-packages\\xgboost\\sklearn.py:1146: UserWarning: The use of label encoder in XGBClassifier is deprecated and will be removed in a future release. To remove this warning, do the following: 1) Pass option use_label_encoder=False when constructing XGBClassifier object; and 2) Encode your labels (y) as integers starting with 0, i.e. 0, 1, 2, ..., [num_class - 1].\n",
      "  warnings.warn(label_encoder_deprecation_msg, UserWarning)\n"
     ]
    },
    {
     "name": "stdout",
     "output_type": "stream",
     "text": [
      "[0]\tvalidation_0-logloss:0.43781\n",
      "[1]\tvalidation_0-logloss:0.29712\n",
      "[2]\tvalidation_0-logloss:0.20797\n",
      "[3]\tvalidation_0-logloss:0.14865\n",
      "[4]\tvalidation_0-logloss:0.10757\n",
      "[5]\tvalidation_0-logloss:0.07849\n",
      "[6]\tvalidation_0-logloss:0.05777\n",
      "[7]\tvalidation_0-logloss:0.04271\n",
      "[8]\tvalidation_0-logloss:0.03179\n",
      "[9]\tvalidation_0-logloss:0.02377\n",
      "[10]\tvalidation_0-logloss:0.01788\n",
      "[11]\tvalidation_0-logloss:0.01353\n",
      "[12]\tvalidation_0-logloss:0.01034\n",
      "[13]\tvalidation_0-logloss:0.00799\n",
      "[14]\tvalidation_0-logloss:0.00624\n",
      "[15]\tvalidation_0-logloss:0.00494\n",
      "[16]\tvalidation_0-logloss:0.00395\n",
      "[17]\tvalidation_0-logloss:0.00321\n",
      "[18]\tvalidation_0-logloss:0.00266\n",
      "[19]\tvalidation_0-logloss:0.00224\n",
      "[20]\tvalidation_0-logloss:0.00191\n",
      "[21]\tvalidation_0-logloss:0.00167\n",
      "[22]\tvalidation_0-logloss:0.00146\n",
      "[23]\tvalidation_0-logloss:0.00130\n",
      "[24]\tvalidation_0-logloss:0.00116\n",
      "[25]\tvalidation_0-logloss:0.00105\n",
      "[26]\tvalidation_0-logloss:0.00095\n",
      "[27]\tvalidation_0-logloss:0.00087\n",
      "[28]\tvalidation_0-logloss:0.00078\n",
      "[29]\tvalidation_0-logloss:0.00071\n",
      "[30]\tvalidation_0-logloss:0.00065\n",
      "[31]\tvalidation_0-logloss:0.00061\n",
      "[32]\tvalidation_0-logloss:0.00056\n",
      "[33]\tvalidation_0-logloss:0.00051\n",
      "[34]\tvalidation_0-logloss:0.00047\n",
      "[35]\tvalidation_0-logloss:0.00043\n",
      "[36]\tvalidation_0-logloss:0.00039\n",
      "[37]\tvalidation_0-logloss:0.00036\n",
      "[38]\tvalidation_0-logloss:0.00034\n",
      "[39]\tvalidation_0-logloss:0.00031\n",
      "[40]\tvalidation_0-logloss:0.00029\n",
      "[41]\tvalidation_0-logloss:0.00027\n",
      "[42]\tvalidation_0-logloss:0.00024\n",
      "[43]\tvalidation_0-logloss:0.00022\n",
      "[44]\tvalidation_0-logloss:0.00021\n",
      "[45]\tvalidation_0-logloss:0.00020\n",
      "[46]\tvalidation_0-logloss:0.00019\n",
      "[47]\tvalidation_0-logloss:0.00018\n",
      "[48]\tvalidation_0-logloss:0.00017\n",
      "[49]\tvalidation_0-logloss:0.00016\n",
      "[50]\tvalidation_0-logloss:0.00015\n",
      "[51]\tvalidation_0-logloss:0.00015\n",
      "[52]\tvalidation_0-logloss:0.00014\n",
      "[53]\tvalidation_0-logloss:0.00013\n",
      "[54]\tvalidation_0-logloss:0.00013\n",
      "[55]\tvalidation_0-logloss:0.00012\n",
      "[56]\tvalidation_0-logloss:0.00012\n",
      "[57]\tvalidation_0-logloss:0.00011\n",
      "[58]\tvalidation_0-logloss:0.00011\n",
      "[59]\tvalidation_0-logloss:0.00011\n",
      "[60]\tvalidation_0-logloss:0.00011\n",
      "[61]\tvalidation_0-logloss:0.00010\n",
      "[62]\tvalidation_0-logloss:0.00010\n",
      "[63]\tvalidation_0-logloss:0.00010\n",
      "[64]\tvalidation_0-logloss:0.00009\n",
      "[65]\tvalidation_0-logloss:0.00009\n",
      "[66]\tvalidation_0-logloss:0.00009\n",
      "[67]\tvalidation_0-logloss:0.00009\n",
      "[68]\tvalidation_0-logloss:0.00009\n",
      "[69]\tvalidation_0-logloss:0.00008\n",
      "[70]\tvalidation_0-logloss:0.00008\n",
      "[71]\tvalidation_0-logloss:0.00008\n",
      "[72]\tvalidation_0-logloss:0.00008\n",
      "[73]\tvalidation_0-logloss:0.00007\n",
      "[74]\tvalidation_0-logloss:0.00007\n",
      "[75]\tvalidation_0-logloss:0.00007\n",
      "[76]\tvalidation_0-logloss:0.00007\n",
      "[77]\tvalidation_0-logloss:0.00007\n",
      "[78]\tvalidation_0-logloss:0.00007\n",
      "[79]\tvalidation_0-logloss:0.00007\n",
      "[80]\tvalidation_0-logloss:0.00007\n",
      "[81]\tvalidation_0-logloss:0.00006\n",
      "[82]\tvalidation_0-logloss:0.00006\n",
      "[83]\tvalidation_0-logloss:0.00006\n",
      "[84]\tvalidation_0-logloss:0.00006\n",
      "[85]\tvalidation_0-logloss:0.00006\n",
      "[86]\tvalidation_0-logloss:0.00006\n",
      "[87]\tvalidation_0-logloss:0.00006\n",
      "[88]\tvalidation_0-logloss:0.00006\n",
      "[89]\tvalidation_0-logloss:0.00006\n",
      "[90]\tvalidation_0-logloss:0.00006\n",
      "[91]\tvalidation_0-logloss:0.00006\n",
      "[92]\tvalidation_0-logloss:0.00006\n",
      "[93]\tvalidation_0-logloss:0.00006\n",
      "[94]\tvalidation_0-logloss:0.00005\n",
      "[95]\tvalidation_0-logloss:0.00005\n",
      "[96]\tvalidation_0-logloss:0.00005\n",
      "[97]\tvalidation_0-logloss:0.00005\n",
      "[98]\tvalidation_0-logloss:0.00005\n",
      "[99]\tvalidation_0-logloss:0.00005\n"
     ]
    },
    {
     "data": {
      "text/plain": [
       "XGBClassifier(base_score=0.5, booster='gbtree', colsample_bylevel=1,\n",
       "              colsample_bynode=1, colsample_bytree=1, gamma=0, gpu_id=-1,\n",
       "              importance_type='gain', interaction_constraints='',\n",
       "              learning_rate=0.300000012, max_delta_step=0, max_depth=6,\n",
       "              min_child_weight=1, missing=nan, monotone_constraints='()',\n",
       "              n_estimators=100, n_jobs=4, num_parallel_tree=1, random_state=0,\n",
       "              reg_alpha=0, reg_lambda=1, scale_pos_weight=1, subsample=1,\n",
       "              tree_method='exact', validate_parameters=1, verbosity=None)"
      ]
     },
     "execution_count": 20,
     "metadata": {},
     "output_type": "execute_result"
    }
   ],
   "source": [
    "# early stopping\n",
    "eval_set = [(X_train, y_train)]\n",
    "third_model = XGBClassifier()\n",
    "third_model.fit(\n",
    "    X_train, \n",
    "    y_train, \n",
    "    early_stopping_rounds=10,\n",
    "    eval_metric=\"logloss\",\n",
    "    eval_set=eval_set,\n",
    "    verbose=True\n",
    "    )\n"
   ]
  },
  {
   "cell_type": "code",
   "execution_count": 64,
   "metadata": {},
   "outputs": [
    {
     "name": "stdout",
     "output_type": "stream",
     "text": [
      "Accuracy: 99.95%\n"
     ]
    }
   ],
   "source": [
    "third_pred = third_model.predict(X_test)\n",
    "\n",
    "acc_3rd = accuracy_score(y_test, third_pred)\n",
    "print(f\"Accuracy: {acc_3rd * 100:.2f}%\")"
   ]
  },
  {
   "cell_type": "code",
   "execution_count": 65,
   "metadata": {},
   "outputs": [
    {
     "data": {
      "image/png": "[encoded data removed]",
      "image/svg+xml": "<?xml version=\"1.0\" encoding=\"utf-8\" standalone=\"no\"?>\r\n<!DOCTYPE svg PUBLIC \"-//W3C//DTD SVG 1.1//EN\"\r\n  \"http://www.w3.org/Graphics/SVG/1.1/DTD/svg11.dtd\">\r\n<!-- Created with matplotlib (https://matplotlib.org/) -->\r\n<svg height=\"263.63625pt\" version=\"1.1\" viewBox=\"0 0 385.78125 263.63625\" width=\"385.78125pt\" xmlns=\"http://www.w3.org/2000/svg\" xmlns:xlink=\"http://www.w3.org/1999/xlink\">\r\n <metadata>\r\n  <rdf:RDF xmlns:cc=\"http://creativecommons.org/ns#\" xmlns:dc=\"http://purl.org/dc/elements/1.1/\" xmlns:rdf=\"http://www.w3.org/1999/02/22-rdf-syntax-ns#\">\r\n   <cc:Work>\r\n    <dc:type rdf:resource=\"http://purl.org/dc/dcmitype/StillImage\"/>\r\n    <dc:date>2021-06-16T21:08:26.181197</dc:date>\r\n    <dc:format>image/svg+xml</dc:format>\r\n    <dc:creator>\r\n     <cc:Agent>\r\n      <dc:title>Matplotlib v3.3.4, https://matplotlib.org/</dc:title>\r\n     </cc:Agent>\r\n    </dc:creator>\r\n   </cc:Work>\r\n  </rdf:RDF>\r\n </metadata>\r\n <defs>\r\n  <style type=\"text/css\">*{stroke-linecap:butt;stroke-linejoin:round;}</style>\r\n </defs>\r\n <g id=\"figure_1\">\r\n  <g id=\"patch_1\">\r\n   <path d=\"M 0 263.63625 \r\nL 385.78125 263.63625 \r\nL 385.78125 0 \r\nL 0 0 \r\nz\r\n\" style=\"fill:none;\"/>\r\n  </g>\r\n  <g id=\"axes_1\">\r\n   <g id=\"patch_2\">\r\n    <path d=\"M 43.78125 239.758125 \r\nL 378.58125 239.758125 \r\nL 378.58125 22.318125 \r\nL 43.78125 22.318125 \r\nz\r\n\" style=\"fill:#ffffff;\"/>\r\n   </g>\r\n   <g id=\"matplotlib.axis_1\">\r\n    <g id=\"xtick_1\">\r\n     <g id=\"line2d_1\">\r\n      <defs>\r\n       <path d=\"M 0 0 \r\nL 0 3.5 \r\n\" id=\"m0e2f6b3ec1\" style=\"stroke:#000000;stroke-width:0.8;\"/>\r\n      </defs>\r\n      <g>\r\n       <use style=\"stroke:#000000;stroke-width:0.8;\" x=\"58.999432\" xlink:href=\"#m0e2f6b3ec1\" y=\"239.758125\"/>\r\n      </g>\r\n     </g>\r\n     <g id=\"text_1\">\r\n      <!-- 0 -->\r\n      <g transform=\"translate(55.818182 254.356563)scale(0.1 -0.1)\">\r\n       <defs>\r\n        <path d=\"M 31.78125 66.40625 \r\nQ 24.171875 66.40625 20.328125 58.90625 \r\nQ 16.5 51.421875 16.5 36.375 \r\nQ 16.5 21.390625 20.328125 13.890625 \r\nQ 24.171875 6.390625 31.78125 6.390625 \r\nQ 39.453125 6.390625 43.28125 13.890625 \r\nQ 47.125 21.390625 47.125 36.375 \r\nQ 47.125 51.421875 43.28125 58.90625 \r\nQ 39.453125 66.40625 31.78125 66.40625 \r\nz\r\nM 31.78125 74.21875 \r\nQ 44.046875 74.21875 50.515625 64.515625 \r\nQ 56.984375 54.828125 56.984375 36.375 \r\nQ 56.984375 17.96875 50.515625 8.265625 \r\nQ 44.046875 -1.421875 31.78125 -1.421875 \r\nQ 19.53125 -1.421875 13.0625 8.265625 \r\nQ 6.59375 17.96875 6.59375 36.375 \r\nQ 6.59375 54.828125 13.0625 64.515625 \r\nQ 19.53125 74.21875 31.78125 74.21875 \r\nz\r\n\" id=\"DejaVuSans-48\"/>\r\n       </defs>\r\n       <use xlink:href=\"#DejaVuSans-48\"/>\r\n      </g>\r\n     </g>\r\n    </g>\r\n    <g id=\"xtick_2\">\r\n     <g id=\"line2d_2\">\r\n      <g>\r\n       <use style=\"stroke:#000000;stroke-width:0.8;\" x=\"120.487035\" xlink:href=\"#m0e2f6b3ec1\" y=\"239.758125\"/>\r\n      </g>\r\n     </g>\r\n     <g id=\"text_2\">\r\n      <!-- 20 -->\r\n      <g transform=\"translate(114.124535 254.356563)scale(0.1 -0.1)\">\r\n       <defs>\r\n        <path d=\"M 19.1875 8.296875 \r\nL 53.609375 8.296875 \r\nL 53.609375 0 \r\nL 7.328125 0 \r\nL 7.328125 8.296875 \r\nQ 12.9375 14.109375 22.625 23.890625 \r\nQ 32.328125 33.6875 34.8125 36.53125 \r\nQ 39.546875 41.84375 41.421875 45.53125 \r\nQ 43.3125 49.21875 43.3125 52.78125 \r\nQ 43.3125 58.59375 39.234375 62.25 \r\nQ 35.15625 65.921875 28.609375 65.921875 \r\nQ 23.96875 65.921875 18.8125 64.3125 \r\nQ 13.671875 62.703125 7.8125 59.421875 \r\nL 7.8125 69.390625 \r\nQ 13.765625 71.78125 18.9375 73 \r\nQ 24.125 74.21875 28.421875 74.21875 \r\nQ 39.75 74.21875 46.484375 68.546875 \r\nQ 53.21875 62.890625 53.21875 53.421875 \r\nQ 53.21875 48.921875 51.53125 44.890625 \r\nQ 49.859375 40.875 45.40625 35.40625 \r\nQ 44.1875 33.984375 37.640625 27.21875 \r\nQ 31.109375 20.453125 19.1875 8.296875 \r\nz\r\n\" id=\"DejaVuSans-50\"/>\r\n       </defs>\r\n       <use xlink:href=\"#DejaVuSans-50\"/>\r\n       <use x=\"63.623047\" xlink:href=\"#DejaVuSans-48\"/>\r\n      </g>\r\n     </g>\r\n    </g>\r\n    <g id=\"xtick_3\">\r\n     <g id=\"line2d_3\">\r\n      <g>\r\n       <use style=\"stroke:#000000;stroke-width:0.8;\" x=\"181.974638\" xlink:href=\"#m0e2f6b3ec1\" y=\"239.758125\"/>\r\n      </g>\r\n     </g>\r\n     <g id=\"text_3\">\r\n      <!-- 40 -->\r\n      <g transform=\"translate(175.612138 254.356563)scale(0.1 -0.1)\">\r\n       <defs>\r\n        <path d=\"M 37.796875 64.3125 \r\nL 12.890625 25.390625 \r\nL 37.796875 25.390625 \r\nz\r\nM 35.203125 72.90625 \r\nL 47.609375 72.90625 \r\nL 47.609375 25.390625 \r\nL 58.015625 25.390625 \r\nL 58.015625 17.1875 \r\nL 47.609375 17.1875 \r\nL 47.609375 0 \r\nL 37.796875 0 \r\nL 37.796875 17.1875 \r\nL 4.890625 17.1875 \r\nL 4.890625 26.703125 \r\nz\r\n\" id=\"DejaVuSans-52\"/>\r\n       </defs>\r\n       <use xlink:href=\"#DejaVuSans-52\"/>\r\n       <use x=\"63.623047\" xlink:href=\"#DejaVuSans-48\"/>\r\n      </g>\r\n     </g>\r\n    </g>\r\n    <g id=\"xtick_4\">\r\n     <g id=\"line2d_4\">\r\n      <g>\r\n       <use style=\"stroke:#000000;stroke-width:0.8;\" x=\"243.462242\" xlink:href=\"#m0e2f6b3ec1\" y=\"239.758125\"/>\r\n      </g>\r\n     </g>\r\n     <g id=\"text_4\">\r\n      <!-- 60 -->\r\n      <g transform=\"translate(237.099742 254.356563)scale(0.1 -0.1)\">\r\n       <defs>\r\n        <path d=\"M 33.015625 40.375 \r\nQ 26.375 40.375 22.484375 35.828125 \r\nQ 18.609375 31.296875 18.609375 23.390625 \r\nQ 18.609375 15.53125 22.484375 10.953125 \r\nQ 26.375 6.390625 33.015625 6.390625 \r\nQ 39.65625 6.390625 43.53125 10.953125 \r\nQ 47.40625 15.53125 47.40625 23.390625 \r\nQ 47.40625 31.296875 43.53125 35.828125 \r\nQ 39.65625 40.375 33.015625 40.375 \r\nz\r\nM 52.59375 71.296875 \r\nL 52.59375 62.3125 \r\nQ 48.875 64.0625 45.09375 64.984375 \r\nQ 41.3125 65.921875 37.59375 65.921875 \r\nQ 27.828125 65.921875 22.671875 59.328125 \r\nQ 17.53125 52.734375 16.796875 39.40625 \r\nQ 19.671875 43.65625 24.015625 45.921875 \r\nQ 28.375 48.1875 33.59375 48.1875 \r\nQ 44.578125 48.1875 50.953125 41.515625 \r\nQ 57.328125 34.859375 57.328125 23.390625 \r\nQ 57.328125 12.15625 50.6875 5.359375 \r\nQ 44.046875 -1.421875 33.015625 -1.421875 \r\nQ 20.359375 -1.421875 13.671875 8.265625 \r\nQ 6.984375 17.96875 6.984375 36.375 \r\nQ 6.984375 53.65625 15.1875 63.9375 \r\nQ 23.390625 74.21875 37.203125 74.21875 \r\nQ 40.921875 74.21875 44.703125 73.484375 \r\nQ 48.484375 72.75 52.59375 71.296875 \r\nz\r\n\" id=\"DejaVuSans-54\"/>\r\n       </defs>\r\n       <use xlink:href=\"#DejaVuSans-54\"/>\r\n       <use x=\"63.623047\" xlink:href=\"#DejaVuSans-48\"/>\r\n      </g>\r\n     </g>\r\n    </g>\r\n    <g id=\"xtick_5\">\r\n     <g id=\"line2d_5\">\r\n      <g>\r\n       <use style=\"stroke:#000000;stroke-width:0.8;\" x=\"304.949845\" xlink:href=\"#m0e2f6b3ec1\" y=\"239.758125\"/>\r\n      </g>\r\n     </g>\r\n     <g id=\"text_5\">\r\n      <!-- 80 -->\r\n      <g transform=\"translate(298.587345 254.356563)scale(0.1 -0.1)\">\r\n       <defs>\r\n        <path d=\"M 31.78125 34.625 \r\nQ 24.75 34.625 20.71875 30.859375 \r\nQ 16.703125 27.09375 16.703125 20.515625 \r\nQ 16.703125 13.921875 20.71875 10.15625 \r\nQ 24.75 6.390625 31.78125 6.390625 \r\nQ 38.8125 6.390625 42.859375 10.171875 \r\nQ 46.921875 13.96875 46.921875 20.515625 \r\nQ 46.921875 27.09375 42.890625 30.859375 \r\nQ 38.875 34.625 31.78125 34.625 \r\nz\r\nM 21.921875 38.8125 \r\nQ 15.578125 40.375 12.03125 44.71875 \r\nQ 8.5 49.078125 8.5 55.328125 \r\nQ 8.5 64.0625 14.71875 69.140625 \r\nQ 20.953125 74.21875 31.78125 74.21875 \r\nQ 42.671875 74.21875 48.875 69.140625 \r\nQ 55.078125 64.0625 55.078125 55.328125 \r\nQ 55.078125 49.078125 51.53125 44.71875 \r\nQ 48 40.375 41.703125 38.8125 \r\nQ 48.828125 37.15625 52.796875 32.3125 \r\nQ 56.78125 27.484375 56.78125 20.515625 \r\nQ 56.78125 9.90625 50.3125 4.234375 \r\nQ 43.84375 -1.421875 31.78125 -1.421875 \r\nQ 19.734375 -1.421875 13.25 4.234375 \r\nQ 6.78125 9.90625 6.78125 20.515625 \r\nQ 6.78125 27.484375 10.78125 32.3125 \r\nQ 14.796875 37.15625 21.921875 38.8125 \r\nz\r\nM 18.3125 54.390625 \r\nQ 18.3125 48.734375 21.84375 45.5625 \r\nQ 25.390625 42.390625 31.78125 42.390625 \r\nQ 38.140625 42.390625 41.71875 45.5625 \r\nQ 45.3125 48.734375 45.3125 54.390625 \r\nQ 45.3125 60.0625 41.71875 63.234375 \r\nQ 38.140625 66.40625 31.78125 66.40625 \r\nQ 25.390625 66.40625 21.84375 63.234375 \r\nQ 18.3125 60.0625 18.3125 54.390625 \r\nz\r\n\" id=\"DejaVuSans-56\"/>\r\n       </defs>\r\n       <use xlink:href=\"#DejaVuSans-56\"/>\r\n       <use x=\"63.623047\" xlink:href=\"#DejaVuSans-48\"/>\r\n      </g>\r\n     </g>\r\n    </g>\r\n    <g id=\"xtick_6\">\r\n     <g id=\"line2d_6\">\r\n      <g>\r\n       <use style=\"stroke:#000000;stroke-width:0.8;\" x=\"366.437448\" xlink:href=\"#m0e2f6b3ec1\" y=\"239.758125\"/>\r\n      </g>\r\n     </g>\r\n     <g id=\"text_6\">\r\n      <!-- 100 -->\r\n      <g transform=\"translate(356.893698 254.356563)scale(0.1 -0.1)\">\r\n       <defs>\r\n        <path d=\"M 12.40625 8.296875 \r\nL 28.515625 8.296875 \r\nL 28.515625 63.921875 \r\nL 10.984375 60.40625 \r\nL 10.984375 69.390625 \r\nL 28.421875 72.90625 \r\nL 38.28125 72.90625 \r\nL 38.28125 8.296875 \r\nL 54.390625 8.296875 \r\nL 54.390625 0 \r\nL 12.40625 0 \r\nz\r\n\" id=\"DejaVuSans-49\"/>\r\n       </defs>\r\n       <use xlink:href=\"#DejaVuSans-49\"/>\r\n       <use x=\"63.623047\" xlink:href=\"#DejaVuSans-48\"/>\r\n       <use x=\"127.246094\" xlink:href=\"#DejaVuSans-48\"/>\r\n      </g>\r\n     </g>\r\n    </g>\r\n   </g>\r\n   <g id=\"matplotlib.axis_2\">\r\n    <g id=\"ytick_1\">\r\n     <g id=\"line2d_7\">\r\n      <defs>\r\n       <path d=\"M 0 0 \r\nL -3.5 0 \r\n\" id=\"ma4a2122f4b\" style=\"stroke:#000000;stroke-width:0.8;\"/>\r\n      </defs>\r\n      <g>\r\n       <use style=\"stroke:#000000;stroke-width:0.8;\" x=\"43.78125\" xlink:href=\"#ma4a2122f4b\" y=\"229.899777\"/>\r\n      </g>\r\n     </g>\r\n     <g id=\"text_7\">\r\n      <!-- 0.0 -->\r\n      <g transform=\"translate(20.878125 233.698996)scale(0.1 -0.1)\">\r\n       <defs>\r\n        <path d=\"M 10.6875 12.40625 \r\nL 21 12.40625 \r\nL 21 0 \r\nL 10.6875 0 \r\nz\r\n\" id=\"DejaVuSans-46\"/>\r\n       </defs>\r\n       <use xlink:href=\"#DejaVuSans-48\"/>\r\n       <use x=\"63.623047\" xlink:href=\"#DejaVuSans-46\"/>\r\n       <use x=\"95.410156\" xlink:href=\"#DejaVuSans-48\"/>\r\n      </g>\r\n     </g>\r\n    </g>\r\n    <g id=\"ytick_2\">\r\n     <g id=\"line2d_8\">\r\n      <g>\r\n       <use style=\"stroke:#000000;stroke-width:0.8;\" x=\"43.78125\" xlink:href=\"#ma4a2122f4b\" y=\"184.741283\"/>\r\n      </g>\r\n     </g>\r\n     <g id=\"text_8\">\r\n      <!-- 0.1 -->\r\n      <g transform=\"translate(20.878125 188.540502)scale(0.1 -0.1)\">\r\n       <use xlink:href=\"#DejaVuSans-48\"/>\r\n       <use x=\"63.623047\" xlink:href=\"#DejaVuSans-46\"/>\r\n       <use x=\"95.410156\" xlink:href=\"#DejaVuSans-49\"/>\r\n      </g>\r\n     </g>\r\n    </g>\r\n    <g id=\"ytick_3\">\r\n     <g id=\"line2d_9\">\r\n      <g>\r\n       <use style=\"stroke:#000000;stroke-width:0.8;\" x=\"43.78125\" xlink:href=\"#ma4a2122f4b\" y=\"139.582789\"/>\r\n      </g>\r\n     </g>\r\n     <g id=\"text_9\">\r\n      <!-- 0.2 -->\r\n      <g transform=\"translate(20.878125 143.382008)scale(0.1 -0.1)\">\r\n       <use xlink:href=\"#DejaVuSans-48\"/>\r\n       <use x=\"63.623047\" xlink:href=\"#DejaVuSans-46\"/>\r\n       <use x=\"95.410156\" xlink:href=\"#DejaVuSans-50\"/>\r\n      </g>\r\n     </g>\r\n    </g>\r\n    <g id=\"ytick_4\">\r\n     <g id=\"line2d_10\">\r\n      <g>\r\n       <use style=\"stroke:#000000;stroke-width:0.8;\" x=\"43.78125\" xlink:href=\"#ma4a2122f4b\" y=\"94.424295\"/>\r\n      </g>\r\n     </g>\r\n     <g id=\"text_10\">\r\n      <!-- 0.3 -->\r\n      <g transform=\"translate(20.878125 98.223514)scale(0.1 -0.1)\">\r\n       <defs>\r\n        <path d=\"M 40.578125 39.3125 \r\nQ 47.65625 37.796875 51.625 33 \r\nQ 55.609375 28.21875 55.609375 21.1875 \r\nQ 55.609375 10.40625 48.1875 4.484375 \r\nQ 40.765625 -1.421875 27.09375 -1.421875 \r\nQ 22.515625 -1.421875 17.65625 -0.515625 \r\nQ 12.796875 0.390625 7.625 2.203125 \r\nL 7.625 11.71875 \r\nQ 11.71875 9.328125 16.59375 8.109375 \r\nQ 21.484375 6.890625 26.8125 6.890625 \r\nQ 36.078125 6.890625 40.9375 10.546875 \r\nQ 45.796875 14.203125 45.796875 21.1875 \r\nQ 45.796875 27.640625 41.28125 31.265625 \r\nQ 36.765625 34.90625 28.71875 34.90625 \r\nL 20.21875 34.90625 \r\nL 20.21875 43.015625 \r\nL 29.109375 43.015625 \r\nQ 36.375 43.015625 40.234375 45.921875 \r\nQ 44.09375 48.828125 44.09375 54.296875 \r\nQ 44.09375 59.90625 40.109375 62.90625 \r\nQ 36.140625 65.921875 28.71875 65.921875 \r\nQ 24.65625 65.921875 20.015625 65.03125 \r\nQ 15.375 64.15625 9.8125 62.3125 \r\nL 9.8125 71.09375 \r\nQ 15.4375 72.65625 20.34375 73.4375 \r\nQ 25.25 74.21875 29.59375 74.21875 \r\nQ 40.828125 74.21875 47.359375 69.109375 \r\nQ 53.90625 64.015625 53.90625 55.328125 \r\nQ 53.90625 49.265625 50.4375 45.09375 \r\nQ 46.96875 40.921875 40.578125 39.3125 \r\nz\r\n\" id=\"DejaVuSans-51\"/>\r\n       </defs>\r\n       <use xlink:href=\"#DejaVuSans-48\"/>\r\n       <use x=\"63.623047\" xlink:href=\"#DejaVuSans-46\"/>\r\n       <use x=\"95.410156\" xlink:href=\"#DejaVuSans-51\"/>\r\n      </g>\r\n     </g>\r\n    </g>\r\n    <g id=\"ytick_5\">\r\n     <g id=\"line2d_11\">\r\n      <g>\r\n       <use style=\"stroke:#000000;stroke-width:0.8;\" x=\"43.78125\" xlink:href=\"#ma4a2122f4b\" y=\"49.265801\"/>\r\n      </g>\r\n     </g>\r\n     <g id=\"text_11\">\r\n      <!-- 0.4 -->\r\n      <g transform=\"translate(20.878125 53.06502)scale(0.1 -0.1)\">\r\n       <use xlink:href=\"#DejaVuSans-48\"/>\r\n       <use x=\"63.623047\" xlink:href=\"#DejaVuSans-46\"/>\r\n       <use x=\"95.410156\" xlink:href=\"#DejaVuSans-52\"/>\r\n      </g>\r\n     </g>\r\n    </g>\r\n    <g id=\"text_12\">\r\n     <!-- Log loss -->\r\n     <g transform=\"translate(14.798438 151.217031)rotate(-90)scale(0.1 -0.1)\">\r\n      <defs>\r\n       <path d=\"M 9.8125 72.90625 \r\nL 19.671875 72.90625 \r\nL 19.671875 8.296875 \r\nL 55.171875 8.296875 \r\nL 55.171875 0 \r\nL 9.8125 0 \r\nz\r\n\" id=\"DejaVuSans-76\"/>\r\n       <path d=\"M 30.609375 48.390625 \r\nQ 23.390625 48.390625 19.1875 42.75 \r\nQ 14.984375 37.109375 14.984375 27.296875 \r\nQ 14.984375 17.484375 19.15625 11.84375 \r\nQ 23.34375 6.203125 30.609375 6.203125 \r\nQ 37.796875 6.203125 41.984375 11.859375 \r\nQ 46.1875 17.53125 46.1875 27.296875 \r\nQ 46.1875 37.015625 41.984375 42.703125 \r\nQ 37.796875 48.390625 30.609375 48.390625 \r\nz\r\nM 30.609375 56 \r\nQ 42.328125 56 49.015625 48.375 \r\nQ 55.71875 40.765625 55.71875 27.296875 \r\nQ 55.71875 13.875 49.015625 6.21875 \r\nQ 42.328125 -1.421875 30.609375 -1.421875 \r\nQ 18.84375 -1.421875 12.171875 6.21875 \r\nQ 5.515625 13.875 5.515625 27.296875 \r\nQ 5.515625 40.765625 12.171875 48.375 \r\nQ 18.84375 56 30.609375 56 \r\nz\r\n\" id=\"DejaVuSans-111\"/>\r\n       <path d=\"M 45.40625 27.984375 \r\nQ 45.40625 37.75 41.375 43.109375 \r\nQ 37.359375 48.484375 30.078125 48.484375 \r\nQ 22.859375 48.484375 18.828125 43.109375 \r\nQ 14.796875 37.75 14.796875 27.984375 \r\nQ 14.796875 18.265625 18.828125 12.890625 \r\nQ 22.859375 7.515625 30.078125 7.515625 \r\nQ 37.359375 7.515625 41.375 12.890625 \r\nQ 45.40625 18.265625 45.40625 27.984375 \r\nz\r\nM 54.390625 6.78125 \r\nQ 54.390625 -7.171875 48.1875 -13.984375 \r\nQ 42 -20.796875 29.203125 -20.796875 \r\nQ 24.46875 -20.796875 20.265625 -20.09375 \r\nQ 16.0625 -19.390625 12.109375 -17.921875 \r\nL 12.109375 -9.1875 \r\nQ 16.0625 -11.328125 19.921875 -12.34375 \r\nQ 23.78125 -13.375 27.78125 -13.375 \r\nQ 36.625 -13.375 41.015625 -8.765625 \r\nQ 45.40625 -4.15625 45.40625 5.171875 \r\nL 45.40625 9.625 \r\nQ 42.625 4.78125 38.28125 2.390625 \r\nQ 33.9375 0 27.875 0 \r\nQ 17.828125 0 11.671875 7.65625 \r\nQ 5.515625 15.328125 5.515625 27.984375 \r\nQ 5.515625 40.671875 11.671875 48.328125 \r\nQ 17.828125 56 27.875 56 \r\nQ 33.9375 56 38.28125 53.609375 \r\nQ 42.625 51.21875 45.40625 46.390625 \r\nL 45.40625 54.6875 \r\nL 54.390625 54.6875 \r\nz\r\n\" id=\"DejaVuSans-103\"/>\r\n       <path id=\"DejaVuSans-32\"/>\r\n       <path d=\"M 9.421875 75.984375 \r\nL 18.40625 75.984375 \r\nL 18.40625 0 \r\nL 9.421875 0 \r\nz\r\n\" id=\"DejaVuSans-108\"/>\r\n       <path d=\"M 44.28125 53.078125 \r\nL 44.28125 44.578125 \r\nQ 40.484375 46.53125 36.375 47.5 \r\nQ 32.28125 48.484375 27.875 48.484375 \r\nQ 21.1875 48.484375 17.84375 46.4375 \r\nQ 14.5 44.390625 14.5 40.28125 \r\nQ 14.5 37.15625 16.890625 35.375 \r\nQ 19.28125 33.59375 26.515625 31.984375 \r\nL 29.59375 31.296875 \r\nQ 39.15625 29.25 43.1875 25.515625 \r\nQ 47.21875 21.78125 47.21875 15.09375 \r\nQ 47.21875 7.46875 41.1875 3.015625 \r\nQ 35.15625 -1.421875 24.609375 -1.421875 \r\nQ 20.21875 -1.421875 15.453125 -0.5625 \r\nQ 10.6875 0.296875 5.421875 2 \r\nL 5.421875 11.28125 \r\nQ 10.40625 8.6875 15.234375 7.390625 \r\nQ 20.0625 6.109375 24.8125 6.109375 \r\nQ 31.15625 6.109375 34.5625 8.28125 \r\nQ 37.984375 10.453125 37.984375 14.40625 \r\nQ 37.984375 18.0625 35.515625 20.015625 \r\nQ 33.0625 21.96875 24.703125 23.78125 \r\nL 21.578125 24.515625 \r\nQ 13.234375 26.265625 9.515625 29.90625 \r\nQ 5.8125 33.546875 5.8125 39.890625 \r\nQ 5.8125 47.609375 11.28125 51.796875 \r\nQ 16.75 56 26.8125 56 \r\nQ 31.78125 56 36.171875 55.265625 \r\nQ 40.578125 54.546875 44.28125 53.078125 \r\nz\r\n\" id=\"DejaVuSans-115\"/>\r\n      </defs>\r\n      <use xlink:href=\"#DejaVuSans-76\"/>\r\n      <use x=\"53.962891\" xlink:href=\"#DejaVuSans-111\"/>\r\n      <use x=\"115.144531\" xlink:href=\"#DejaVuSans-103\"/>\r\n      <use x=\"178.621094\" xlink:href=\"#DejaVuSans-32\"/>\r\n      <use x=\"210.408203\" xlink:href=\"#DejaVuSans-108\"/>\r\n      <use x=\"238.191406\" xlink:href=\"#DejaVuSans-111\"/>\r\n      <use x=\"299.373047\" xlink:href=\"#DejaVuSans-115\"/>\r\n      <use x=\"351.472656\" xlink:href=\"#DejaVuSans-115\"/>\r\n     </g>\r\n    </g>\r\n   </g>\r\n   <g id=\"line2d_12\">\r\n    <path clip-path=\"url(#p5fabf80e34)\" d=\"M 58.999432 32.201761 \r\nL 62.073812 95.727118 \r\nL 65.148192 135.988173 \r\nL 68.222572 162.768063 \r\nL 71.296952 181.319624 \r\nL 74.371333 194.452166 \r\nL 77.445713 203.806748 \r\nL 80.520093 210.605359 \r\nL 83.594473 215.535764 \r\nL 86.668853 219.140766 \r\nL 89.743233 221.7717 \r\nL 92.817614 223.715322 \r\nL 95.891994 225.140072 \r\nL 98.966374 226.200845 \r\nL 102.040754 226.992022 \r\nL 105.115134 227.580437 \r\nL 108.189514 228.019829 \r\nL 111.263895 228.354905 \r\nL 114.338275 228.601922 \r\nL 117.412655 228.800168 \r\nL 120.487035 228.958223 \r\nL 123.561415 229.084667 \r\nL 126.635795 229.177693 \r\nL 129.710176 229.259882 \r\nL 132.784556 229.330329 \r\nL 135.858936 229.389486 \r\nL 138.933316 229.430581 \r\nL 142.007696 229.47303 \r\nL 145.082076 229.504189 \r\nL 148.156457 229.536252 \r\nL 151.230837 229.575088 \r\nL 154.305217 229.592248 \r\nL 157.379597 229.605344 \r\nL 160.453977 229.626569 \r\nL 163.528357 229.658631 \r\nL 166.602738 229.669469 \r\nL 169.677118 229.685726 \r\nL 172.751498 229.706499 \r\nL 175.825878 229.715079 \r\nL 178.900258 229.730433 \r\nL 181.974638 229.744884 \r\nL 185.049019 229.754367 \r\nL 188.123399 229.767463 \r\nL 191.197779 229.779204 \r\nL 194.272159 229.782365 \r\nL 197.346539 229.788687 \r\nL 200.420919 229.797268 \r\nL 203.4953 229.801783 \r\nL 206.56968 229.806751 \r\nL 209.64406 229.811267 \r\nL 212.71844 229.814879 \r\nL 215.79282 229.818492 \r\nL 218.8672 229.822556 \r\nL 221.941581 229.826621 \r\nL 225.015961 229.82933 \r\nL 228.090341 229.831136 \r\nL 231.164721 229.832943 \r\nL 234.239101 229.835201 \r\nL 237.313481 229.83791 \r\nL 240.387862 229.840168 \r\nL 243.462242 229.842426 \r\nL 246.536622 229.843781 \r\nL 249.611002 229.846039 \r\nL 252.685382 229.847394 \r\nL 255.759762 229.848748 \r\nL 258.834143 229.850103 \r\nL 261.908523 229.851458 \r\nL 264.982903 229.852813 \r\nL 268.057283 229.854619 \r\nL 271.131663 229.855974 \r\nL 274.206043 229.857328 \r\nL 277.280424 229.858232 \r\nL 280.354804 229.859135 \r\nL 283.429184 229.860038 \r\nL 286.503564 229.860941 \r\nL 289.577944 229.861844 \r\nL 292.652324 229.862747 \r\nL 295.726705 229.863651 \r\nL 298.801085 229.864554 \r\nL 301.875465 229.865005 \r\nL 304.949845 229.865457 \r\nL 308.024225 229.865909 \r\nL 311.098605 229.86636 \r\nL 314.172986 229.867263 \r\nL 317.247366 229.867715 \r\nL 320.321746 229.868166 \r\nL 323.396126 229.86907 \r\nL 326.470506 229.869521 \r\nL 329.544886 229.869973 \r\nL 332.619267 229.870424 \r\nL 335.693647 229.870876 \r\nL 338.768027 229.871328 \r\nL 341.842407 229.871779 \r\nL 344.916787 229.872231 \r\nL 347.991167 229.872682 \r\nL 351.065548 229.873134 \r\nL 354.139928 229.873585 \r\nL 357.214308 229.873585 \r\nL 360.288688 229.874037 \r\nL 363.363068 229.874489 \r\n\" style=\"fill:none;stroke:#1f77b4;stroke-linecap:square;stroke-width:1.5;\"/>\r\n   </g>\r\n   <g id=\"patch_3\">\r\n    <path d=\"M 43.78125 239.758125 \r\nL 43.78125 22.318125 \r\n\" style=\"fill:none;stroke:#000000;stroke-linecap:square;stroke-linejoin:miter;stroke-width:0.8;\"/>\r\n   </g>\r\n   <g id=\"patch_4\">\r\n    <path d=\"M 378.58125 239.758125 \r\nL 378.58125 22.318125 \r\n\" style=\"fill:none;stroke:#000000;stroke-linecap:square;stroke-linejoin:miter;stroke-width:0.8;\"/>\r\n   </g>\r\n   <g id=\"patch_5\">\r\n    <path d=\"M 43.78125 239.758125 \r\nL 378.58125 239.758125 \r\n\" style=\"fill:none;stroke:#000000;stroke-linecap:square;stroke-linejoin:miter;stroke-width:0.8;\"/>\r\n   </g>\r\n   <g id=\"patch_6\">\r\n    <path d=\"M 43.78125 22.318125 \r\nL 378.58125 22.318125 \r\n\" style=\"fill:none;stroke:#000000;stroke-linecap:square;stroke-linejoin:miter;stroke-width:0.8;\"/>\r\n   </g>\r\n   <g id=\"text_13\">\r\n    <!-- Creditcard fraud Log Loss using XGBOOST -->\r\n    <g transform=\"translate(84.815625 16.318125)scale(0.12 -0.12)\">\r\n     <defs>\r\n      <path d=\"M 64.40625 67.28125 \r\nL 64.40625 56.890625 \r\nQ 59.421875 61.53125 53.78125 63.8125 \r\nQ 48.140625 66.109375 41.796875 66.109375 \r\nQ 29.296875 66.109375 22.65625 58.46875 \r\nQ 16.015625 50.828125 16.015625 36.375 \r\nQ 16.015625 21.96875 22.65625 14.328125 \r\nQ 29.296875 6.6875 41.796875 6.6875 \r\nQ 48.140625 6.6875 53.78125 8.984375 \r\nQ 59.421875 11.28125 64.40625 15.921875 \r\nL 64.40625 5.609375 \r\nQ 59.234375 2.09375 53.4375 0.328125 \r\nQ 47.65625 -1.421875 41.21875 -1.421875 \r\nQ 24.65625 -1.421875 15.125 8.703125 \r\nQ 5.609375 18.84375 5.609375 36.375 \r\nQ 5.609375 53.953125 15.125 64.078125 \r\nQ 24.65625 74.21875 41.21875 74.21875 \r\nQ 47.75 74.21875 53.53125 72.484375 \r\nQ 59.328125 70.75 64.40625 67.28125 \r\nz\r\n\" id=\"DejaVuSans-67\"/>\r\n      <path d=\"M 41.109375 46.296875 \r\nQ 39.59375 47.171875 37.8125 47.578125 \r\nQ 36.03125 48 33.890625 48 \r\nQ 26.265625 48 22.1875 43.046875 \r\nQ 18.109375 38.09375 18.109375 28.8125 \r\nL 18.109375 0 \r\nL 9.078125 0 \r\nL 9.078125 54.6875 \r\nL 18.109375 54.6875 \r\nL 18.109375 46.1875 \r\nQ 20.953125 51.171875 25.484375 53.578125 \r\nQ 30.03125 56 36.53125 56 \r\nQ 37.453125 56 38.578125 55.875 \r\nQ 39.703125 55.765625 41.0625 55.515625 \r\nz\r\n\" id=\"DejaVuSans-114\"/>\r\n      <path d=\"M 56.203125 29.59375 \r\nL 56.203125 25.203125 \r\nL 14.890625 25.203125 \r\nQ 15.484375 15.921875 20.484375 11.0625 \r\nQ 25.484375 6.203125 34.421875 6.203125 \r\nQ 39.59375 6.203125 44.453125 7.46875 \r\nQ 49.3125 8.734375 54.109375 11.28125 \r\nL 54.109375 2.78125 \r\nQ 49.265625 0.734375 44.1875 -0.34375 \r\nQ 39.109375 -1.421875 33.890625 -1.421875 \r\nQ 20.796875 -1.421875 13.15625 6.1875 \r\nQ 5.515625 13.8125 5.515625 26.8125 \r\nQ 5.515625 40.234375 12.765625 48.109375 \r\nQ 20.015625 56 32.328125 56 \r\nQ 43.359375 56 49.78125 48.890625 \r\nQ 56.203125 41.796875 56.203125 29.59375 \r\nz\r\nM 47.21875 32.234375 \r\nQ 47.125 39.59375 43.09375 43.984375 \r\nQ 39.0625 48.390625 32.421875 48.390625 \r\nQ 24.90625 48.390625 20.390625 44.140625 \r\nQ 15.875 39.890625 15.1875 32.171875 \r\nz\r\n\" id=\"DejaVuSans-101\"/>\r\n      <path d=\"M 45.40625 46.390625 \r\nL 45.40625 75.984375 \r\nL 54.390625 75.984375 \r\nL 54.390625 0 \r\nL 45.40625 0 \r\nL 45.40625 8.203125 \r\nQ 42.578125 3.328125 38.25 0.953125 \r\nQ 33.9375 -1.421875 27.875 -1.421875 \r\nQ 17.96875 -1.421875 11.734375 6.484375 \r\nQ 5.515625 14.40625 5.515625 27.296875 \r\nQ 5.515625 40.1875 11.734375 48.09375 \r\nQ 17.96875 56 27.875 56 \r\nQ 33.9375 56 38.25 53.625 \r\nQ 42.578125 51.265625 45.40625 46.390625 \r\nz\r\nM 14.796875 27.296875 \r\nQ 14.796875 17.390625 18.875 11.75 \r\nQ 22.953125 6.109375 30.078125 6.109375 \r\nQ 37.203125 6.109375 41.296875 11.75 \r\nQ 45.40625 17.390625 45.40625 27.296875 \r\nQ 45.40625 37.203125 41.296875 42.84375 \r\nQ 37.203125 48.484375 30.078125 48.484375 \r\nQ 22.953125 48.484375 18.875 42.84375 \r\nQ 14.796875 37.203125 14.796875 27.296875 \r\nz\r\n\" id=\"DejaVuSans-100\"/>\r\n      <path d=\"M 9.421875 54.6875 \r\nL 18.40625 54.6875 \r\nL 18.40625 0 \r\nL 9.421875 0 \r\nz\r\nM 9.421875 75.984375 \r\nL 18.40625 75.984375 \r\nL 18.40625 64.59375 \r\nL 9.421875 64.59375 \r\nz\r\n\" id=\"DejaVuSans-105\"/>\r\n      <path d=\"M 18.3125 70.21875 \r\nL 18.3125 54.6875 \r\nL 36.8125 54.6875 \r\nL 36.8125 47.703125 \r\nL 18.3125 47.703125 \r\nL 18.3125 18.015625 \r\nQ 18.3125 11.328125 20.140625 9.421875 \r\nQ 21.96875 7.515625 27.59375 7.515625 \r\nL 36.8125 7.515625 \r\nL 36.8125 0 \r\nL 27.59375 0 \r\nQ 17.1875 0 13.234375 3.875 \r\nQ 9.28125 7.765625 9.28125 18.015625 \r\nL 9.28125 47.703125 \r\nL 2.6875 47.703125 \r\nL 2.6875 54.6875 \r\nL 9.28125 54.6875 \r\nL 9.28125 70.21875 \r\nz\r\n\" id=\"DejaVuSans-116\"/>\r\n      <path d=\"M 48.78125 52.59375 \r\nL 48.78125 44.1875 \r\nQ 44.96875 46.296875 41.140625 47.34375 \r\nQ 37.3125 48.390625 33.40625 48.390625 \r\nQ 24.65625 48.390625 19.8125 42.84375 \r\nQ 14.984375 37.3125 14.984375 27.296875 \r\nQ 14.984375 17.28125 19.8125 11.734375 \r\nQ 24.65625 6.203125 33.40625 6.203125 \r\nQ 37.3125 6.203125 41.140625 7.25 \r\nQ 44.96875 8.296875 48.78125 10.40625 \r\nL 48.78125 2.09375 \r\nQ 45.015625 0.34375 40.984375 -0.53125 \r\nQ 36.96875 -1.421875 32.421875 -1.421875 \r\nQ 20.0625 -1.421875 12.78125 6.34375 \r\nQ 5.515625 14.109375 5.515625 27.296875 \r\nQ 5.515625 40.671875 12.859375 48.328125 \r\nQ 20.21875 56 33.015625 56 \r\nQ 37.15625 56 41.109375 55.140625 \r\nQ 45.0625 54.296875 48.78125 52.59375 \r\nz\r\n\" id=\"DejaVuSans-99\"/>\r\n      <path d=\"M 34.28125 27.484375 \r\nQ 23.390625 27.484375 19.1875 25 \r\nQ 14.984375 22.515625 14.984375 16.5 \r\nQ 14.984375 11.71875 18.140625 8.90625 \r\nQ 21.296875 6.109375 26.703125 6.109375 \r\nQ 34.1875 6.109375 38.703125 11.40625 \r\nQ 43.21875 16.703125 43.21875 25.484375 \r\nL 43.21875 27.484375 \r\nz\r\nM 52.203125 31.203125 \r\nL 52.203125 0 \r\nL 43.21875 0 \r\nL 43.21875 8.296875 \r\nQ 40.140625 3.328125 35.546875 0.953125 \r\nQ 30.953125 -1.421875 24.3125 -1.421875 \r\nQ 15.921875 -1.421875 10.953125 3.296875 \r\nQ 6 8.015625 6 15.921875 \r\nQ 6 25.140625 12.171875 29.828125 \r\nQ 18.359375 34.515625 30.609375 34.515625 \r\nL 43.21875 34.515625 \r\nL 43.21875 35.40625 \r\nQ 43.21875 41.609375 39.140625 45 \r\nQ 35.0625 48.390625 27.6875 48.390625 \r\nQ 23 48.390625 18.546875 47.265625 \r\nQ 14.109375 46.140625 10.015625 43.890625 \r\nL 10.015625 52.203125 \r\nQ 14.9375 54.109375 19.578125 55.046875 \r\nQ 24.21875 56 28.609375 56 \r\nQ 40.484375 56 46.34375 49.84375 \r\nQ 52.203125 43.703125 52.203125 31.203125 \r\nz\r\n\" id=\"DejaVuSans-97\"/>\r\n      <path d=\"M 37.109375 75.984375 \r\nL 37.109375 68.5 \r\nL 28.515625 68.5 \r\nQ 23.6875 68.5 21.796875 66.546875 \r\nQ 19.921875 64.59375 19.921875 59.515625 \r\nL 19.921875 54.6875 \r\nL 34.71875 54.6875 \r\nL 34.71875 47.703125 \r\nL 19.921875 47.703125 \r\nL 19.921875 0 \r\nL 10.890625 0 \r\nL 10.890625 47.703125 \r\nL 2.296875 47.703125 \r\nL 2.296875 54.6875 \r\nL 10.890625 54.6875 \r\nL 10.890625 58.5 \r\nQ 10.890625 67.625 15.140625 71.796875 \r\nQ 19.390625 75.984375 28.609375 75.984375 \r\nz\r\n\" id=\"DejaVuSans-102\"/>\r\n      <path d=\"M 8.5 21.578125 \r\nL 8.5 54.6875 \r\nL 17.484375 54.6875 \r\nL 17.484375 21.921875 \r\nQ 17.484375 14.15625 20.5 10.265625 \r\nQ 23.53125 6.390625 29.59375 6.390625 \r\nQ 36.859375 6.390625 41.078125 11.03125 \r\nQ 45.3125 15.671875 45.3125 23.6875 \r\nL 45.3125 54.6875 \r\nL 54.296875 54.6875 \r\nL 54.296875 0 \r\nL 45.3125 0 \r\nL 45.3125 8.40625 \r\nQ 42.046875 3.421875 37.71875 1 \r\nQ 33.40625 -1.421875 27.6875 -1.421875 \r\nQ 18.265625 -1.421875 13.375 4.4375 \r\nQ 8.5 10.296875 8.5 21.578125 \r\nz\r\nM 31.109375 56 \r\nz\r\n\" id=\"DejaVuSans-117\"/>\r\n      <path d=\"M 54.890625 33.015625 \r\nL 54.890625 0 \r\nL 45.90625 0 \r\nL 45.90625 32.71875 \r\nQ 45.90625 40.484375 42.875 44.328125 \r\nQ 39.84375 48.1875 33.796875 48.1875 \r\nQ 26.515625 48.1875 22.3125 43.546875 \r\nQ 18.109375 38.921875 18.109375 30.90625 \r\nL 18.109375 0 \r\nL 9.078125 0 \r\nL 9.078125 54.6875 \r\nL 18.109375 54.6875 \r\nL 18.109375 46.1875 \r\nQ 21.34375 51.125 25.703125 53.5625 \r\nQ 30.078125 56 35.796875 56 \r\nQ 45.21875 56 50.046875 50.171875 \r\nQ 54.890625 44.34375 54.890625 33.015625 \r\nz\r\n\" id=\"DejaVuSans-110\"/>\r\n      <path d=\"M 6.296875 72.90625 \r\nL 16.890625 72.90625 \r\nL 35.015625 45.796875 \r\nL 53.21875 72.90625 \r\nL 63.8125 72.90625 \r\nL 40.375 37.890625 \r\nL 65.375 0 \r\nL 54.78125 0 \r\nL 34.28125 31 \r\nL 13.625 0 \r\nL 2.984375 0 \r\nL 29 38.921875 \r\nz\r\n\" id=\"DejaVuSans-88\"/>\r\n      <path d=\"M 59.515625 10.40625 \r\nL 59.515625 29.984375 \r\nL 43.40625 29.984375 \r\nL 43.40625 38.09375 \r\nL 69.28125 38.09375 \r\nL 69.28125 6.78125 \r\nQ 63.578125 2.734375 56.6875 0.65625 \r\nQ 49.8125 -1.421875 42 -1.421875 \r\nQ 24.90625 -1.421875 15.25 8.5625 \r\nQ 5.609375 18.5625 5.609375 36.375 \r\nQ 5.609375 54.25 15.25 64.234375 \r\nQ 24.90625 74.21875 42 74.21875 \r\nQ 49.125 74.21875 55.546875 72.453125 \r\nQ 61.96875 70.703125 67.390625 67.28125 \r\nL 67.390625 56.78125 \r\nQ 61.921875 61.421875 55.765625 63.765625 \r\nQ 49.609375 66.109375 42.828125 66.109375 \r\nQ 29.4375 66.109375 22.71875 58.640625 \r\nQ 16.015625 51.171875 16.015625 36.375 \r\nQ 16.015625 21.625 22.71875 14.15625 \r\nQ 29.4375 6.6875 42.828125 6.6875 \r\nQ 48.046875 6.6875 52.140625 7.59375 \r\nQ 56.25 8.5 59.515625 10.40625 \r\nz\r\n\" id=\"DejaVuSans-71\"/>\r\n      <path d=\"M 19.671875 34.8125 \r\nL 19.671875 8.109375 \r\nL 35.5 8.109375 \r\nQ 43.453125 8.109375 47.28125 11.40625 \r\nQ 51.125 14.703125 51.125 21.484375 \r\nQ 51.125 28.328125 47.28125 31.5625 \r\nQ 43.453125 34.8125 35.5 34.8125 \r\nz\r\nM 19.671875 64.796875 \r\nL 19.671875 42.828125 \r\nL 34.28125 42.828125 \r\nQ 41.5 42.828125 45.03125 45.53125 \r\nQ 48.578125 48.25 48.578125 53.8125 \r\nQ 48.578125 59.328125 45.03125 62.0625 \r\nQ 41.5 64.796875 34.28125 64.796875 \r\nz\r\nM 9.8125 72.90625 \r\nL 35.015625 72.90625 \r\nQ 46.296875 72.90625 52.390625 68.21875 \r\nQ 58.5 63.53125 58.5 54.890625 \r\nQ 58.5 48.1875 55.375 44.234375 \r\nQ 52.25 40.28125 46.1875 39.3125 \r\nQ 53.46875 37.75 57.5 32.78125 \r\nQ 61.53125 27.828125 61.53125 20.40625 \r\nQ 61.53125 10.640625 54.890625 5.3125 \r\nQ 48.25 0 35.984375 0 \r\nL 9.8125 0 \r\nz\r\n\" id=\"DejaVuSans-66\"/>\r\n      <path d=\"M 39.40625 66.21875 \r\nQ 28.65625 66.21875 22.328125 58.203125 \r\nQ 16.015625 50.203125 16.015625 36.375 \r\nQ 16.015625 22.609375 22.328125 14.59375 \r\nQ 28.65625 6.59375 39.40625 6.59375 \r\nQ 50.140625 6.59375 56.421875 14.59375 \r\nQ 62.703125 22.609375 62.703125 36.375 \r\nQ 62.703125 50.203125 56.421875 58.203125 \r\nQ 50.140625 66.21875 39.40625 66.21875 \r\nz\r\nM 39.40625 74.21875 \r\nQ 54.734375 74.21875 63.90625 63.9375 \r\nQ 73.09375 53.65625 73.09375 36.375 \r\nQ 73.09375 19.140625 63.90625 8.859375 \r\nQ 54.734375 -1.421875 39.40625 -1.421875 \r\nQ 24.03125 -1.421875 14.8125 8.828125 \r\nQ 5.609375 19.09375 5.609375 36.375 \r\nQ 5.609375 53.65625 14.8125 63.9375 \r\nQ 24.03125 74.21875 39.40625 74.21875 \r\nz\r\n\" id=\"DejaVuSans-79\"/>\r\n      <path d=\"M 53.515625 70.515625 \r\nL 53.515625 60.890625 \r\nQ 47.90625 63.578125 42.921875 64.890625 \r\nQ 37.9375 66.21875 33.296875 66.21875 \r\nQ 25.25 66.21875 20.875 63.09375 \r\nQ 16.5 59.96875 16.5 54.203125 \r\nQ 16.5 49.359375 19.40625 46.890625 \r\nQ 22.3125 44.4375 30.421875 42.921875 \r\nL 36.375 41.703125 \r\nQ 47.40625 39.59375 52.65625 34.296875 \r\nQ 57.90625 29 57.90625 20.125 \r\nQ 57.90625 9.515625 50.796875 4.046875 \r\nQ 43.703125 -1.421875 29.984375 -1.421875 \r\nQ 24.8125 -1.421875 18.96875 -0.25 \r\nQ 13.140625 0.921875 6.890625 3.21875 \r\nL 6.890625 13.375 \r\nQ 12.890625 10.015625 18.65625 8.296875 \r\nQ 24.421875 6.59375 29.984375 6.59375 \r\nQ 38.421875 6.59375 43.015625 9.90625 \r\nQ 47.609375 13.234375 47.609375 19.390625 \r\nQ 47.609375 24.75 44.3125 27.78125 \r\nQ 41.015625 30.8125 33.5 32.328125 \r\nL 27.484375 33.5 \r\nQ 16.453125 35.6875 11.515625 40.375 \r\nQ 6.59375 45.0625 6.59375 53.421875 \r\nQ 6.59375 63.09375 13.40625 68.65625 \r\nQ 20.21875 74.21875 32.171875 74.21875 \r\nQ 37.3125 74.21875 42.625 73.28125 \r\nQ 47.953125 72.359375 53.515625 70.515625 \r\nz\r\n\" id=\"DejaVuSans-83\"/>\r\n      <path d=\"M -0.296875 72.90625 \r\nL 61.375 72.90625 \r\nL 61.375 64.59375 \r\nL 35.5 64.59375 \r\nL 35.5 0 \r\nL 25.59375 0 \r\nL 25.59375 64.59375 \r\nL -0.296875 64.59375 \r\nz\r\n\" id=\"DejaVuSans-84\"/>\r\n     </defs>\r\n     <use xlink:href=\"#DejaVuSans-67\"/>\r\n     <use x=\"69.824219\" xlink:href=\"#DejaVuSans-114\"/>\r\n     <use x=\"108.6875\" xlink:href=\"#DejaVuSans-101\"/>\r\n     <use x=\"170.210938\" xlink:href=\"#DejaVuSans-100\"/>\r\n     <use x=\"233.6875\" xlink:href=\"#DejaVuSans-105\"/>\r\n     <use x=\"261.470703\" xlink:href=\"#DejaVuSans-116\"/>\r\n     <use x=\"300.679688\" xlink:href=\"#DejaVuSans-99\"/>\r\n     <use x=\"355.660156\" xlink:href=\"#DejaVuSans-97\"/>\r\n     <use x=\"416.939453\" xlink:href=\"#DejaVuSans-114\"/>\r\n     <use x=\"456.302734\" xlink:href=\"#DejaVuSans-100\"/>\r\n     <use x=\"519.779297\" xlink:href=\"#DejaVuSans-32\"/>\r\n     <use x=\"551.566406\" xlink:href=\"#DejaVuSans-102\"/>\r\n     <use x=\"586.771484\" xlink:href=\"#DejaVuSans-114\"/>\r\n     <use x=\"627.884766\" xlink:href=\"#DejaVuSans-97\"/>\r\n     <use x=\"689.164062\" xlink:href=\"#DejaVuSans-117\"/>\r\n     <use x=\"752.542969\" xlink:href=\"#DejaVuSans-100\"/>\r\n     <use x=\"816.019531\" xlink:href=\"#DejaVuSans-32\"/>\r\n     <use x=\"847.806641\" xlink:href=\"#DejaVuSans-76\"/>\r\n     <use x=\"901.769531\" xlink:href=\"#DejaVuSans-111\"/>\r\n     <use x=\"962.951172\" xlink:href=\"#DejaVuSans-103\"/>\r\n     <use x=\"1026.427734\" xlink:href=\"#DejaVuSans-32\"/>\r\n     <use x=\"1058.214844\" xlink:href=\"#DejaVuSans-76\"/>\r\n     <use x=\"1112.177734\" xlink:href=\"#DejaVuSans-111\"/>\r\n     <use x=\"1173.359375\" xlink:href=\"#DejaVuSans-115\"/>\r\n     <use x=\"1225.458984\" xlink:href=\"#DejaVuSans-115\"/>\r\n     <use x=\"1277.558594\" xlink:href=\"#DejaVuSans-32\"/>\r\n     <use x=\"1309.345703\" xlink:href=\"#DejaVuSans-117\"/>\r\n     <use x=\"1372.724609\" xlink:href=\"#DejaVuSans-115\"/>\r\n     <use x=\"1424.824219\" xlink:href=\"#DejaVuSans-105\"/>\r\n     <use x=\"1452.607422\" xlink:href=\"#DejaVuSans-110\"/>\r\n     <use x=\"1515.986328\" xlink:href=\"#DejaVuSans-103\"/>\r\n     <use x=\"1579.462891\" xlink:href=\"#DejaVuSans-32\"/>\r\n     <use x=\"1611.25\" xlink:href=\"#DejaVuSans-88\"/>\r\n     <use x=\"1679.755859\" xlink:href=\"#DejaVuSans-71\"/>\r\n     <use x=\"1757.246094\" xlink:href=\"#DejaVuSans-66\"/>\r\n     <use x=\"1824.099609\" xlink:href=\"#DejaVuSans-79\"/>\r\n     <use x=\"1902.810547\" xlink:href=\"#DejaVuSans-79\"/>\r\n     <use x=\"1981.521484\" xlink:href=\"#DejaVuSans-83\"/>\r\n     <use x=\"2044.998047\" xlink:href=\"#DejaVuSans-84\"/>\r\n    </g>\r\n   </g>\r\n   <g id=\"legend_1\">\r\n    <g id=\"patch_7\">\r\n     <path d=\"M 315.59375 44.99625 \r\nL 371.58125 44.99625 \r\nQ 373.58125 44.99625 373.58125 42.99625 \r\nL 373.58125 29.318125 \r\nQ 373.58125 27.318125 371.58125 27.318125 \r\nL 315.59375 27.318125 \r\nQ 313.59375 27.318125 313.59375 29.318125 \r\nL 313.59375 42.99625 \r\nQ 313.59375 44.99625 315.59375 44.99625 \r\nz\r\n\" style=\"fill:#ffffff;opacity:0.8;stroke:#cccccc;stroke-linejoin:miter;\"/>\r\n    </g>\r\n    <g id=\"line2d_13\">\r\n     <path d=\"M 317.59375 35.416562 \r\nL 337.59375 35.416562 \r\n\" style=\"fill:none;stroke:#1f77b4;stroke-linecap:square;stroke-width:1.5;\"/>\r\n    </g>\r\n    <g id=\"line2d_14\"/>\r\n    <g id=\"text_14\">\r\n     <!-- Train -->\r\n     <g transform=\"translate(345.59375 38.916562)scale(0.1 -0.1)\">\r\n      <use xlink:href=\"#DejaVuSans-84\"/>\r\n      <use x=\"46.333984\" xlink:href=\"#DejaVuSans-114\"/>\r\n      <use x=\"87.447266\" xlink:href=\"#DejaVuSans-97\"/>\r\n      <use x=\"148.726562\" xlink:href=\"#DejaVuSans-105\"/>\r\n      <use x=\"176.509766\" xlink:href=\"#DejaVuSans-110\"/>\r\n     </g>\r\n    </g>\r\n   </g>\r\n  </g>\r\n </g>\r\n <defs>\r\n  <clipPath id=\"p5fabf80e34\">\r\n   <rect height=\"217.44\" width=\"334.8\" x=\"43.78125\" y=\"22.318125\"/>\r\n  </clipPath>\r\n </defs>\r\n</svg>\r\n",
      "text/plain": [
       "<Figure size 432x288 with 1 Axes>"
      ]
     },
     "metadata": {
      "needs_background": "light"
     },
     "output_type": "display_data"
    }
   ],
   "source": [
    "# plot log loss\n",
    "fig, ax = plt.subplots()\n",
    "ax.plot(x_axis, results['validation_0']['logloss'], label='Train')\n",
    "ax.legend()\n",
    "plt.ylabel('Log loss')\n",
    "plt.title('Creditcard fraud Log Loss using XGBOOST')\n",
    "plt.show()"
   ]
  },
  {
   "cell_type": "code",
   "execution_count": null,
   "metadata": {},
   "outputs": [],
   "source": []
  }
 ],
 "metadata": {
  "interpreter": {
   "hash": "e0c0fc535d3a4574cc8f7de5fd7fa08a6aadbe1efe276a04e27ee4584e1eb9fa"
  },
  "kernelspec": {
   "display_name": "Python 3.8.8 64-bit ('ml': conda)",
   "name": "python3"
  },
  "language_info": {
   "codemirror_mode": {
    "name": "ipython",
    "version": 3
   },
   "file_extension": ".py",
   "mimetype": "text/x-python",
   "name": "python",
   "nbconvert_exporter": "python",
   "pygments_lexer": "ipython3",
   "version": "3.8.8"
  },
  "orig_nbformat": 2
 },
 "nbformat": 4,
 "nbformat_minor": 2
}
